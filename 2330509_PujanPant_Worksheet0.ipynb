{
  "nbformat": 4,
  "nbformat_minor": 0,
  "metadata": {
    "colab": {
      "provenance": []
    },
    "kernelspec": {
      "name": "python3",
      "display_name": "Python 3"
    },
    "language_info": {
      "name": "python"
    }
  },
  "cells": [
    {
      "cell_type": "markdown",
      "source": [
        "# **Python Task **"
      ],
      "metadata": {
        "id": "K5RWJ62MacS-"
      }
    },
    {
      "cell_type": "markdown",
      "source": [
        "# **4.1 Exercise on Functions**"
      ],
      "metadata": {
        "id": "pzAv7YVWYcvw"
      }
    },
    {
      "cell_type": "markdown",
      "source": [
        "**Task 1: Unit Conversion Program**"
      ],
      "metadata": {
        "id": "0qSQ3r8PYkyk"
      }
    },
    {
      "cell_type": "code",
      "execution_count": null,
      "metadata": {
        "colab": {
          "base_uri": "https://localhost:8080/"
        },
        "id": "KpmYVjr0WnxI",
        "outputId": "0c331fe7-ff4d-4af2-d240-eef63ea5bf5e"
      },
      "outputs": [
        {
          "output_type": "stream",
          "name": "stdout",
          "text": [
            "Unit Conversion Program\n",
            "1. Length Conversion\n",
            "2. Weight Conversion\n",
            "3. Volume Conversion\n",
            "Choose conversion type (1-3): 2\n",
            "\n",
            "Weight Conversion:\n",
            "1. Kilograms to Pounds\n",
            "2. Pounds to Kilograms\n",
            "Choose direction (1-2): 1\n",
            "Enter value to convert: 45\n",
            "45.0 kilograms = 99.21 pounds\n"
          ]
        }
      ],
      "source": [
        "def convert_length(value, direction):\n",
        "    \"\"\"\n",
        "    Convert between meters and feet.\n",
        "\n",
        "    Parameters:\n",
        "        value (float): The value to convert\n",
        "        direction (str): Either 'm_to_ft' or 'ft_to_m'\n",
        "\n",
        "    Returns:\n",
        "        float: The converted value\n",
        "    \"\"\"\n",
        "    if direction == 'm_to_ft':\n",
        "        return value * 3.28084\n",
        "    elif direction == 'ft_to_m':\n",
        "        return value * 0.3048\n",
        "    else:\n",
        "        raise ValueError(\"Invalid direction for length conversion\")\n",
        "\n",
        "def convert_weight(value, direction):\n",
        "    \"\"\"\n",
        "    Convert between kilograms and pounds.\n",
        "\n",
        "    Parameters:\n",
        "        value (float): The value to convert\n",
        "        direction (str): Either 'kg_to_lb' or 'lb_to_kg'\n",
        "\n",
        "    Returns:\n",
        "        float: The converted value\n",
        "    \"\"\"\n",
        "    if direction == 'kg_to_lb':\n",
        "        return value * 2.20462\n",
        "    elif direction == 'lb_to_kg':\n",
        "        return value * 0.453592\n",
        "    else:\n",
        "        raise ValueError(\"Invalid direction for weight conversion\")\n",
        "\n",
        "def convert_volume(value, direction):\n",
        "    \"\"\"\n",
        "    Convert between liters and gallons.\n",
        "\n",
        "    Parameters:\n",
        "        value (float): The value to convert\n",
        "        direction (str): Either 'l_to_gal' or 'gal_to_l'\n",
        "\n",
        "    Returns:\n",
        "        float: The converted value\n",
        "    \"\"\"\n",
        "    if direction == 'l_to_gal':\n",
        "        return value * 0.264172\n",
        "    elif direction == 'gal_to_l':\n",
        "        return value * 3.78541\n",
        "    else:\n",
        "        raise ValueError(\"Invalid direction for volume conversion\")\n",
        "\n",
        "def main():\n",
        "    print(\"Unit Conversion Program\")\n",
        "    print(\"1. Length Conversion\")\n",
        "    print(\"2. Weight Conversion\")\n",
        "    print(\"3. Volume Conversion\")\n",
        "\n",
        "    try:\n",
        "        conversion_type = int(input(\"Choose conversion type (1-3): \"))\n",
        "\n",
        "        if conversion_type == 1:\n",
        "            print(\"\\nLength Conversion:\")\n",
        "            print(\"1. Meters to Feet\")\n",
        "            print(\"2. Feet to Meters\")\n",
        "            direction = int(input(\"Choose direction (1-2): \"))\n",
        "\n",
        "            value = float(input(\"Enter value to convert: \"))\n",
        "\n",
        "            if direction == 1:\n",
        "                result = convert_length(value, 'm_to_ft')\n",
        "                print(f\"{value} meters = {result:.2f} feet\")\n",
        "            elif direction == 2:\n",
        "                result = convert_length(value, 'ft_to_m')\n",
        "                print(f\"{value} feet = {result:.2f} meters\")\n",
        "            else:\n",
        "                print(\"Invalid direction choice!\")\n",
        "\n",
        "        elif conversion_type == 2:\n",
        "            print(\"\\nWeight Conversion:\")\n",
        "            print(\"1. Kilograms to Pounds\")\n",
        "            print(\"2. Pounds to Kilograms\")\n",
        "            direction = int(input(\"Choose direction (1-2): \"))\n",
        "\n",
        "            value = float(input(\"Enter value to convert: \"))\n",
        "\n",
        "            if direction == 1:\n",
        "                result = convert_weight(value, 'kg_to_lb')\n",
        "                print(f\"{value} kilograms = {result:.2f} pounds\")\n",
        "            elif direction == 2:\n",
        "                result = convert_weight(value, 'lb_to_kg')\n",
        "                print(f\"{value} pounds = {result:.2f} kilograms\")\n",
        "            else:\n",
        "                print(\"Invalid direction choice!\")\n",
        "\n",
        "        elif conversion_type == 3:\n",
        "            print(\"\\nVolume Conversion:\")\n",
        "            print(\"1. Liters to Gallons\")\n",
        "            print(\"2. Gallons to Liters\")\n",
        "            direction = int(input(\"Choose direction (1-2): \"))\n",
        "\n",
        "            value = float(input(\"Enter value to convert: \"))\n",
        "\n",
        "            if direction == 1:\n",
        "                result = convert_volume(value, 'l_to_gal')\n",
        "                print(f\"{value} liters = {result:.2f} gallons\")\n",
        "            elif direction == 2:\n",
        "                result = convert_volume(value, 'gal_to_l')\n",
        "                print(f\"{value} gallons = {result:.2f} liters\")\n",
        "            else:\n",
        "                print(\"Invalid direction choice!\")\n",
        "\n",
        "        else:\n",
        "            print(\"Invalid conversion type!\")\n",
        "\n",
        "    except ValueError as e:\n",
        "        if str(e).startswith(\"Invalid direction\"):\n",
        "            print(e)\n",
        "        else:\n",
        "            print(\"Invalid input! Please enter a number.\")\n",
        "\n",
        "if __name__ == \"__main__\":\n",
        "    main()"
      ]
    },
    {
      "cell_type": "markdown",
      "source": [
        "**Task 2: Mathematical Operations on a List**"
      ],
      "metadata": {
        "id": "pEx9-I0vY08n"
      }
    },
    {
      "cell_type": "code",
      "source": [
        "def calculate_sum(numbers):\n",
        "    \"\"\"\n",
        "    Calculate the sum of a list of numbers.\n",
        "\n",
        "    Parameters:\n",
        "        numbers (list): A list of numbers\n",
        "\n",
        "    Returns:\n",
        "        float: The sum of the numbers\n",
        "    \"\"\"\n",
        "    return sum(numbers)\n",
        "\n",
        "def calculate_average(numbers):\n",
        "    \"\"\"\n",
        "    Calculate the average of a list of numbers.\n",
        "\n",
        "    Parameters:\n",
        "        numbers (list): A list of numbers\n",
        "\n",
        "    Returns:\n",
        "        float: The average of the numbers\n",
        "    \"\"\"\n",
        "    if not numbers:\n",
        "        raise ValueError(\"Cannot calculate average of an empty list\")\n",
        "    return sum(numbers) / len(numbers)\n",
        "\n",
        "def find_maximum(numbers):\n",
        "    \"\"\"\n",
        "    Find the maximum value in a list of numbers.\n",
        "\n",
        "    Parameters:\n",
        "        numbers (list): A list of numbers\n",
        "\n",
        "    Returns:\n",
        "        float: The maximum value\n",
        "    \"\"\"\n",
        "    if not numbers:\n",
        "        raise ValueError(\"Cannot find maximum of an empty list\")\n",
        "    return max(numbers)\n",
        "\n",
        "def find_minimum(numbers):\n",
        "    \"\"\"\n",
        "    Find the minimum value in a list of numbers.\n",
        "\n",
        "    Parameters:\n",
        "        numbers (list): A list of numbers\n",
        "\n",
        "    Returns:\n",
        "        float: The minimum value\n",
        "    \"\"\"\n",
        "    if not numbers:\n",
        "        raise ValueError(\"Cannot find minimum of an empty list\")\n",
        "    return min(numbers)\n",
        "\n",
        "def main():\n",
        "    print(\"Mathematical Operations on a List\")\n",
        "    print(\"1. Calculate Sum\")\n",
        "    print(\"2. Calculate Average\")\n",
        "    print(\"3. Find Maximum\")\n",
        "    print(\"4. Find Minimum\")\n",
        "\n",
        "    try:\n",
        "        operation = int(input(\"Choose operation (1-4): \"))\n",
        "\n",
        "        input_string = input(\"Enter a list of numbers separated by spaces: \")\n",
        "        numbers = [float(x) for x in input_string.split()]\n",
        "\n",
        "        if not numbers:\n",
        "            print(\"Error: Empty list provided\")\n",
        "            return\n",
        "\n",
        "        if operation == 1:\n",
        "            result = calculate_sum(numbers)\n",
        "            print(f\"Sum: {result}\")\n",
        "        elif operation == 2:\n",
        "            result = calculate_average(numbers)\n",
        "            print(f\"Average: {result:.2f}\")\n",
        "        elif operation == 3:\n",
        "            result = find_maximum(numbers)\n",
        "            print(f\"Maximum: {result}\")\n",
        "        elif operation == 4:\n",
        "            result = find_minimum(numbers)\n",
        "            print(f\"Minimum: {result}\")\n",
        "        else:\n",
        "            print(\"Invalid operation choice!\")\n",
        "\n",
        "    except ValueError as e:\n",
        "        if str(e).startswith(\"Cannot\"):\n",
        "            print(f\"Error: {e}\")\n",
        "        else:\n",
        "            print(\"Invalid input! Please enter valid numbers.\")\n",
        "\n",
        "if __name__ == \"__main__\":\n",
        "    main()"
      ],
      "metadata": {
        "colab": {
          "base_uri": "https://localhost:8080/"
        },
        "id": "WhafBnp3YoUN",
        "outputId": "465b6514-e574-42e0-cb49-5b7df49e0657"
      },
      "execution_count": null,
      "outputs": [
        {
          "output_type": "stream",
          "name": "stdout",
          "text": [
            "Mathematical Operations on a List\n",
            "1. Calculate Sum\n",
            "2. Calculate Average\n",
            "3. Find Maximum\n",
            "4. Find Minimum\n",
            "Choose operation (1-4): 3\n",
            "Enter a list of numbers separated by spaces: 2 4 5 6 8 1\n",
            "Maximum: 8.0\n"
          ]
        }
      ]
    },
    {
      "cell_type": "markdown",
      "source": [
        "# **4.2 Exercise on List Manipulation**"
      ],
      "metadata": {
        "id": "YdjRSXNjY9SF"
      }
    },
    {
      "cell_type": "markdown",
      "source": [
        "**1. Extract Every Other Element**"
      ],
      "metadata": {
        "id": "nXWlXVHVY-93"
      }
    },
    {
      "cell_type": "code",
      "source": [
        "def extract_every_other(lst):\n",
        "    \"\"\"\n",
        "    Extract every other element from a list, starting from the first element.\n",
        "\n",
        "    Parameters:\n",
        "        lst (list): The input list\n",
        "\n",
        "    Returns:\n",
        "        list: A new list containing every other element\n",
        "    \"\"\"\n",
        "    return lst[::2]\n",
        "\n",
        "# Test the function\n",
        "test_list = [1, 2, 3, 4, 5, 6]\n",
        "result = extract_every_other(test_list)\n",
        "print(f\"Original list: {test_list}\")\n",
        "print(f\"Every other element: {result}\")"
      ],
      "metadata": {
        "colab": {
          "base_uri": "https://localhost:8080/"
        },
        "id": "LrmR8SojY3cW",
        "outputId": "0cea76a2-958c-4495-a9cb-b49caf461e58"
      },
      "execution_count": null,
      "outputs": [
        {
          "output_type": "stream",
          "name": "stdout",
          "text": [
            "Original list: [1, 2, 3, 4, 5, 6]\n",
            "Every other element: [1, 3, 5]\n"
          ]
        }
      ]
    },
    {
      "cell_type": "markdown",
      "source": [
        "**2. Slice a Sublist**"
      ],
      "metadata": {
        "id": "kX1Y_ACQZLyz"
      }
    },
    {
      "cell_type": "code",
      "source": [
        "def get_sublist(lst, start, end):\n",
        "    \"\"\"\n",
        "    Returns a sublist from a given list, from start to end (inclusive).\n",
        "\n",
        "    Parameters:\n",
        "        lst (list): The input list\n",
        "        start (int): The starting index\n",
        "        end (int): The ending index (inclusive)\n",
        "\n",
        "    Returns:\n",
        "        list: The sublist from start to end (inclusive)\n",
        "    \"\"\"\n",
        "    return lst[start:end+1]\n",
        "\n",
        "# Test the function\n",
        "test_list = [1, 2, 3, 4, 5, 6]\n",
        "start_idx = 2\n",
        "end_idx = 4\n",
        "result = get_sublist(test_list, start_idx, end_idx)\n",
        "print(f\"Original list: {test_list}\")\n",
        "print(f\"Sublist from index {start_idx} to {end_idx}: {result}\")"
      ],
      "metadata": {
        "colab": {
          "base_uri": "https://localhost:8080/"
        },
        "id": "AjCGPJyBZC-p",
        "outputId": "75ed94f1-0246-42f9-f78f-ce089fa26041"
      },
      "execution_count": null,
      "outputs": [
        {
          "output_type": "stream",
          "name": "stdout",
          "text": [
            "Original list: [1, 2, 3, 4, 5, 6]\n",
            "Sublist from index 2 to 4: [3, 4, 5]\n"
          ]
        }
      ]
    },
    {
      "cell_type": "markdown",
      "source": [
        "**3. Reverse a List Using Slicing**"
      ],
      "metadata": {
        "id": "oJ4_2WFwZQch"
      }
    },
    {
      "cell_type": "code",
      "source": [
        "def reverse_list(lst):\n",
        "    \"\"\"\n",
        "    Reverses a list using slicing.\n",
        "\n",
        "    Parameters:\n",
        "        lst (list): The input list\n",
        "\n",
        "    Returns:\n",
        "        list: The reversed list\n",
        "    \"\"\"\n",
        "    return lst[::-1]\n",
        "\n",
        "# Test the function\n",
        "test_list = [1, 2, 3, 4, 5]\n",
        "result = reverse_list(test_list)\n",
        "print(f\"Original list: {test_list}\")\n",
        "print(f\"Reversed list: {result}\")"
      ],
      "metadata": {
        "colab": {
          "base_uri": "https://localhost:8080/"
        },
        "id": "MPDYApLrZNvy",
        "outputId": "7d2e4f65-e294-48b3-8322-5b44b5760b32"
      },
      "execution_count": null,
      "outputs": [
        {
          "output_type": "stream",
          "name": "stdout",
          "text": [
            "Original list: [1, 2, 3, 4, 5]\n",
            "Reversed list: [5, 4, 3, 2, 1]\n"
          ]
        }
      ]
    },
    {
      "cell_type": "markdown",
      "source": [
        "**4. Remove the First and Last Elements**"
      ],
      "metadata": {
        "id": "zI-OPvoqZVmm"
      }
    },
    {
      "cell_type": "code",
      "source": [
        "def remove_first_last(lst):\n",
        "    \"\"\"\n",
        "    Removes the first and last elements of a list and returns the resulting sublist.\n",
        "\n",
        "    Parameters:\n",
        "        lst (list): The input list\n",
        "\n",
        "    Returns:\n",
        "        list: A new list without the first and last elements\n",
        "    \"\"\"\n",
        "    return lst[1:-1]\n",
        "\n",
        "# Test the function\n",
        "test_list = [1, 2, 3, 4, 5]\n",
        "result = remove_first_last(test_list)\n",
        "print(f\"Original list: {test_list}\")\n",
        "print(f\"List without first and last elements: {result}\")"
      ],
      "metadata": {
        "colab": {
          "base_uri": "https://localhost:8080/"
        },
        "id": "2l-BvhGPZTl9",
        "outputId": "e24570c4-0fb4-41bb-f4b1-b4b60c54ae58"
      },
      "execution_count": null,
      "outputs": [
        {
          "output_type": "stream",
          "name": "stdout",
          "text": [
            "Original list: [1, 2, 3, 4, 5]\n",
            "List without first and last elements: [2, 3, 4]\n"
          ]
        }
      ]
    },
    {
      "cell_type": "markdown",
      "source": [
        "**5. Get the First n Elements**"
      ],
      "metadata": {
        "id": "zOZt8siaZaT5"
      }
    },
    {
      "cell_type": "code",
      "source": [
        "def get_first_n(lst, n):\n",
        "    \"\"\"\n",
        "    Extracts the first n elements from a list.\n",
        "\n",
        "    Parameters:\n",
        "        lst (list): The input list\n",
        "        n (int): Number of elements to extract\n",
        "\n",
        "    Returns:\n",
        "        list: A new list containing the first n elements\n",
        "    \"\"\"\n",
        "    return lst[:n]\n",
        "\n",
        "# Test the function\n",
        "test_list = [1, 2, 3, 4, 5]\n",
        "n = 3\n",
        "result = get_first_n(test_list, n)\n",
        "print(f\"Original list: {test_list}\")\n",
        "print(f\"First {n} elements: {result}\")"
      ],
      "metadata": {
        "colab": {
          "base_uri": "https://localhost:8080/"
        },
        "id": "P2jiH63EZXwp",
        "outputId": "6230a752-5be3-4a5c-8f3d-678f62a67a3d"
      },
      "execution_count": null,
      "outputs": [
        {
          "output_type": "stream",
          "name": "stdout",
          "text": [
            "Original list: [1, 2, 3, 4, 5]\n",
            "First 3 elements: [1, 2, 3]\n"
          ]
        }
      ]
    },
    {
      "cell_type": "markdown",
      "source": [
        "**6. Extract Elements from the End**"
      ],
      "metadata": {
        "id": "zXODYwcpZdqV"
      }
    },
    {
      "cell_type": "code",
      "source": [
        "def get_last_n(lst, n):\n",
        "    \"\"\"\n",
        "    Extracts the last n elements of a list using slicing.\n",
        "\n",
        "    Parameters:\n",
        "        lst (list): The input list\n",
        "        n (int): Number of elements to extract from the end\n",
        "\n",
        "    Returns:\n",
        "        list: A new list containing the last n elements\n",
        "    \"\"\"\n",
        "    return lst[-n:]\n",
        "\n",
        "# Test the function\n",
        "test_list = [1, 2, 3, 4, 5]\n",
        "n = 2\n",
        "result = get_last_n(test_list, n)\n",
        "print(f\"Original list: {test_list}\")\n",
        "print(f\"Last {n} elements: {result}\")"
      ],
      "metadata": {
        "colab": {
          "base_uri": "https://localhost:8080/"
        },
        "id": "4GP7hOt_ZcIK",
        "outputId": "5062a0a9-1e73-4157-8605-502162966903"
      },
      "execution_count": null,
      "outputs": [
        {
          "output_type": "stream",
          "name": "stdout",
          "text": [
            "Original list: [1, 2, 3, 4, 5]\n",
            "Last 2 elements: [4, 5]\n"
          ]
        }
      ]
    },
    {
      "cell_type": "markdown",
      "source": [
        "**7. Extract Elements in Reverse Order**"
      ],
      "metadata": {
        "id": "E3qQwZYOZhfr"
      }
    },
    {
      "cell_type": "code",
      "source": [
        "def reverse_skip(lst):\n",
        "    \"\"\"\n",
        "    Extracts a list of elements in reverse order starting from the second-to-last element\n",
        "    and skipping one element in between.\n",
        "\n",
        "    Parameters:\n",
        "        lst (list): The input list\n",
        "\n",
        "    Returns:\n",
        "        list: A new list with every second element starting from the second-to-last\n",
        "    \"\"\"\n",
        "    return lst[-2::-2]\n",
        "\n",
        "# Test the function\n",
        "test_list = [1, 2, 3, 4, 5, 6]\n",
        "result = reverse_skip(test_list)\n",
        "print(f\"Original list: {test_list}\")\n",
        "print(f\"Reverse skip: {result}\")"
      ],
      "metadata": {
        "colab": {
          "base_uri": "https://localhost:8080/"
        },
        "id": "4p4pBhazZfuj",
        "outputId": "e029fb16-f812-4185-d16b-24ab7154335d"
      },
      "execution_count": null,
      "outputs": [
        {
          "output_type": "stream",
          "name": "stdout",
          "text": [
            "Original list: [1, 2, 3, 4, 5, 6]\n",
            "Reverse skip: [5, 3, 1]\n"
          ]
        }
      ]
    },
    {
      "cell_type": "markdown",
      "source": [
        "# **4.3 Exercise on Nested List**"
      ],
      "metadata": {
        "id": "Z9uK8K5AZlQs"
      }
    },
    {
      "cell_type": "markdown",
      "source": [
        "**1. Flatten a Nested List**"
      ],
      "metadata": {
        "id": "m7pfbAw3Zn95"
      }
    },
    {
      "cell_type": "code",
      "source": [
        "def flatten(lst):\n",
        "    \"\"\"\n",
        "    Flattens a nested list into a single list.\n",
        "\n",
        "    Parameters:\n",
        "        lst (list): A nested list\n",
        "\n",
        "    Returns:\n",
        "        list: A flattened list\n",
        "    \"\"\"\n",
        "    result = []\n",
        "    for item in lst:\n",
        "        if isinstance(item, list):\n",
        "            result.extend(item)\n",
        "        else:\n",
        "            result.append(item)\n",
        "    return result\n",
        "\n",
        "# Test the function\n",
        "test_list = [[1, 2], [3, 4], [5]]\n",
        "result = flatten(test_list)\n",
        "print(f\"Nested list: {test_list}\")\n",
        "print(f\"Flattened list: {result}\")"
      ],
      "metadata": {
        "colab": {
          "base_uri": "https://localhost:8080/"
        },
        "id": "YznnljcaZjeS",
        "outputId": "50964742-ee18-42b2-993e-832136992f41"
      },
      "execution_count": null,
      "outputs": [
        {
          "output_type": "stream",
          "name": "stdout",
          "text": [
            "Nested list: [[1, 2], [3, 4], [5]]\n",
            "Flattened list: [1, 2, 3, 4, 5]\n"
          ]
        }
      ]
    },
    {
      "cell_type": "markdown",
      "source": [
        "**2. Accessing Nested List Elements**"
      ],
      "metadata": {
        "id": "YFPMK-JNZtMc"
      }
    },
    {
      "cell_type": "code",
      "source": [
        "def access_nested_element(lst, indices):\n",
        "    \"\"\"\n",
        "    Extracts a specific element from a nested list given its indices.\n",
        "\n",
        "    Parameters:\n",
        "        lst (list): A nested list\n",
        "        indices (list): A list of indices to navigate through the nested list\n",
        "\n",
        "    Returns:\n",
        "        Any: The element at the specified position\n",
        "    \"\"\"\n",
        "    current = lst\n",
        "    for idx in indices:\n",
        "        current = current[idx]\n",
        "    return current\n",
        "\n",
        "# Test the function\n",
        "test_list = [[1, 2, 3], [4, 5, 6], [7, 8, 9]]\n",
        "indices = [1, 2]\n",
        "result = access_nested_element(test_list, indices)\n",
        "print(f\"Nested list: {test_list}\")\n",
        "print(f\"Element at indices {indices}: {result}\")"
      ],
      "metadata": {
        "colab": {
          "base_uri": "https://localhost:8080/"
        },
        "id": "SguY49_fZqqS",
        "outputId": "3073e152-ba2d-43a1-e652-bc250643849d"
      },
      "execution_count": null,
      "outputs": [
        {
          "output_type": "stream",
          "name": "stdout",
          "text": [
            "Nested list: [[1, 2, 3], [4, 5, 6], [7, 8, 9]]\n",
            "Element at indices [1, 2]: 6\n"
          ]
        }
      ]
    },
    {
      "cell_type": "markdown",
      "source": [
        "**3. Sum of All Elements in a Nested List**"
      ],
      "metadata": {
        "id": "ZAy476E-Z0Bi"
      }
    },
    {
      "cell_type": "code",
      "source": [
        "def sum_nested(lst):\n",
        "    \"\"\"\n",
        "    Calculates the sum of all numbers in a nested list (regardless of depth).\n",
        "\n",
        "    Parameters:\n",
        "        lst (list): A nested list of numbers\n",
        "\n",
        "    Returns:\n",
        "        float: The sum of all elements\n",
        "    \"\"\"\n",
        "    total = 0\n",
        "    for item in lst:\n",
        "        if isinstance(item, list):\n",
        "            total += sum_nested(item)\n",
        "        else:\n",
        "            total += item\n",
        "    return total\n",
        "\n",
        "# Test the function\n",
        "test_list = [[1, 2], [3, [4, 5]], 6]\n",
        "result = sum_nested(test_list)\n",
        "print(f\"Nested list: {test_list}\")\n",
        "print(f\"Sum: {result}\")"
      ],
      "metadata": {
        "colab": {
          "base_uri": "https://localhost:8080/"
        },
        "id": "xuAXzg61ZvOe",
        "outputId": "e24f5b9c-cb47-487d-c30c-cc67c5050333"
      },
      "execution_count": null,
      "outputs": [
        {
          "output_type": "stream",
          "name": "stdout",
          "text": [
            "Nested list: [[1, 2], [3, [4, 5]], 6]\n",
            "Sum: 21\n"
          ]
        }
      ]
    },
    {
      "cell_type": "markdown",
      "source": [
        "**4. Remove Specific Element from a Nested List**"
      ],
      "metadata": {
        "id": "mj8LmeYkZ3qz"
      }
    },
    {
      "cell_type": "code",
      "source": [
        "def remove_element(lst, elem):\n",
        "    \"\"\"\n",
        "    Removes all occurrences of a specific element from a nested list.\n",
        "\n",
        "    Parameters:\n",
        "        lst (list): A nested list\n",
        "        elem: The element to remove\n",
        "\n",
        "    Returns:\n",
        "        list: The modified list with elem removed\n",
        "    \"\"\"\n",
        "    result = []\n",
        "    for item in lst:\n",
        "        if isinstance(item, list):\n",
        "            result.append(remove_element(item, elem))\n",
        "        elif item != elem:\n",
        "            result.append(item)\n",
        "    return result\n",
        "\n",
        "# Test the function\n",
        "test_list = [[1, 2], [3, 2], [4, 5]]\n",
        "elem = 2\n",
        "result = remove_element(test_list, elem)\n",
        "print(f\"Original nested list: {test_list}\")\n",
        "print(f\"After removing {elem}: {result}\")"
      ],
      "metadata": {
        "colab": {
          "base_uri": "https://localhost:8080/"
        },
        "id": "e0n-bZwbZ2Hl",
        "outputId": "7427b960-3dc9-4122-cd9e-cbf3689f1f75"
      },
      "execution_count": null,
      "outputs": [
        {
          "output_type": "stream",
          "name": "stdout",
          "text": [
            "Original nested list: [[1, 2], [3, 2], [4, 5]]\n",
            "After removing 2: [[1], [3], [4, 5]]\n"
          ]
        }
      ]
    },
    {
      "cell_type": "markdown",
      "source": [
        "**5. Find the Maximum Element in a Nested List**"
      ],
      "metadata": {
        "id": "sII5M9nwZ8jy"
      }
    },
    {
      "cell_type": "code",
      "source": [
        "def find_max(lst):\n",
        "    \"\"\"\n",
        "    Finds the maximum element in a nested list (regardless of depth).\n",
        "\n",
        "    Parameters:\n",
        "        lst (list): A nested list of numbers\n",
        "\n",
        "    Returns:\n",
        "        float: The maximum element\n",
        "    \"\"\"\n",
        "    max_value = float('-inf')\n",
        "    for item in lst:\n",
        "        if isinstance(item, list):\n",
        "            max_item = find_max(item)\n",
        "            if max_item > max_value:\n",
        "                max_value = max_item\n",
        "        elif item > max_value:\n",
        "            max_value = item\n",
        "    return max_value\n",
        "\n",
        "# Test the function\n",
        "test_list = [[1, 2], [3, [4, 5]], 6]\n",
        "result = find_max(test_list)\n",
        "print(f\"Nested list: {test_list}\")\n",
        "print(f\"Maximum element: {result}\")"
      ],
      "metadata": {
        "colab": {
          "base_uri": "https://localhost:8080/"
        },
        "id": "qCpvCcDVZ5uI",
        "outputId": "c4a34ab6-25f7-43ca-9036-0b4658d9f097"
      },
      "execution_count": null,
      "outputs": [
        {
          "output_type": "stream",
          "name": "stdout",
          "text": [
            "Nested list: [[1, 2], [3, [4, 5]], 6]\n",
            "Maximum element: 6\n"
          ]
        }
      ]
    },
    {
      "cell_type": "markdown",
      "source": [
        "**6. Count Occurrences of an Element in a Nested List**"
      ],
      "metadata": {
        "id": "7poKHFZIaIa3"
      }
    },
    {
      "cell_type": "code",
      "source": [
        "def count_occurrences(lst, elem):\n",
        "    \"\"\"\n",
        "    Counts how many times a specific element appears in a nested list.\n",
        "\n",
        "    Parameters:\n",
        "        lst (list): A nested list\n",
        "        elem: The element to count\n",
        "\n",
        "    Returns:\n",
        "        int: The number of occurrences\n",
        "    \"\"\"\n",
        "    count = 0\n",
        "    for item in lst:\n",
        "        if isinstance(item, list):\n",
        "            count += count_occurrences(item, elem)\n",
        "        elif item == elem:\n",
        "            count += 1\n",
        "    return count\n",
        "\n",
        "# Test the function\n",
        "test_list = [[1, 2], [2, 3], [2, 4]]\n",
        "elem = 2\n",
        "result = count_occurrences(test_list, elem)\n",
        "print(f\"Nested list: {test_list}\")\n",
        "print(f\"Occurrences of {elem}: {result}\")"
      ],
      "metadata": {
        "colab": {
          "base_uri": "https://localhost:8080/"
        },
        "id": "xRbBJcdtZ-dO",
        "outputId": "3f69990b-29e0-4873-f618-ff5a8407f07e"
      },
      "execution_count": null,
      "outputs": [
        {
          "output_type": "stream",
          "name": "stdout",
          "text": [
            "Nested list: [[1, 2], [2, 3], [2, 4]]\n",
            "Occurrences of 2: 3\n"
          ]
        }
      ]
    },
    {
      "cell_type": "markdown",
      "source": [
        "**7. Flatten a List of Lists of Lists**"
      ],
      "metadata": {
        "id": "mCQZKx-naL77"
      }
    },
    {
      "cell_type": "code",
      "source": [
        "def deep_flatten(lst):\n",
        "    \"\"\"\n",
        "    Flattens a deeply nested list into a single list, regardless of depth.\n",
        "\n",
        "    Parameters:\n",
        "        lst (list): A deeply nested list\n",
        "\n",
        "    Returns:\n",
        "        list: A single flattened list\n",
        "    \"\"\"\n",
        "    result = []\n",
        "    for item in lst:\n",
        "        if isinstance(item, list):\n",
        "            result.extend(deep_flatten(item))\n",
        "        else:\n",
        "            result.append(item)\n",
        "    return result\n",
        "\n",
        "# Test the function\n",
        "test_list = [[[1, 2], [3, 4]], [[5, 6], [7, 8]]]\n",
        "result = deep_flatten(test_list)\n",
        "print(f\"Deeply nested list: {test_list}\")\n",
        "print(f\"Flattened list: {result}\")"
      ],
      "metadata": {
        "colab": {
          "base_uri": "https://localhost:8080/"
        },
        "id": "oBOne390aKZZ",
        "outputId": "2850e498-79ba-452b-fd14-4ee60ca30f99"
      },
      "execution_count": null,
      "outputs": [
        {
          "output_type": "stream",
          "name": "stdout",
          "text": [
            "Deeply nested list: [[[1, 2], [3, 4]], [[5, 6], [7, 8]]]\n",
            "Flattened list: [1, 2, 3, 4, 5, 6, 7, 8]\n"
          ]
        }
      ]
    },
    {
      "cell_type": "markdown",
      "source": [
        "**8. Nested List Average**"
      ],
      "metadata": {
        "id": "z1czvTuzaPY8"
      }
    },
    {
      "cell_type": "code",
      "source": [
        "def average_nested(lst):\n",
        "    \"\"\"\n",
        "    Calculates the average of all elements in a nested list.\n",
        "\n",
        "    Parameters:\n",
        "        lst (list): A nested list of numbers\n",
        "\n",
        "    Returns:\n",
        "        float: The average of all elements\n",
        "    \"\"\"\n",
        "    flat_list = deep_flatten(lst)\n",
        "    if not flat_list:\n",
        "        raise ValueError(\"Cannot calculate average of an empty list\")\n",
        "    return sum(flat_list) / len(flat_list)\n",
        "\n",
        "def deep_flatten(lst):\n",
        "    \"\"\"\n",
        "    Helper function to flatten a deeply nested list.\n",
        "    \"\"\"\n",
        "    result = []\n",
        "    for item in lst:\n",
        "        if isinstance(item, list):\n",
        "            result.extend(deep_flatten(item))\n",
        "        else:\n",
        "            result.append(item)\n",
        "    return result\n",
        "\n",
        "# Test the function\n",
        "test_list = [[1, 2], [3, 4], [5, 6]]\n",
        "result = average_nested(test_list)\n",
        "print(f\"Nested list: {test_list}\")\n",
        "print(f\"Average: {result}\")"
      ],
      "metadata": {
        "colab": {
          "base_uri": "https://localhost:8080/"
        },
        "id": "0J9enQy-aNx2",
        "outputId": "3ee3d958-a5f4-40da-ec40-5eb353c02d44"
      },
      "execution_count": null,
      "outputs": [
        {
          "output_type": "stream",
          "name": "stdout",
          "text": [
            "Nested list: [[1, 2], [3, 4], [5, 6]]\n",
            "Average: 3.5\n"
          ]
        }
      ]
    },
    {
      "cell_type": "markdown",
      "source": [
        "# **NumPy Task **"
      ],
      "metadata": {
        "id": "AIQVJ18cbDyd"
      }
    },
    {
      "cell_type": "markdown",
      "source": [
        "# **10.1 Basic Vector and Matrix Operation with NumPy**"
      ],
      "metadata": {
        "id": "WaAP1JWsbI2M"
      }
    },
    {
      "cell_type": "markdown",
      "source": [
        "**Problem 1: Array Creation**"
      ],
      "metadata": {
        "id": "r2Mq97YrbNC_"
      }
    },
    {
      "cell_type": "code",
      "source": [
        "import numpy as np\n",
        "\n",
        "# 1. Initialize an empty array with size 2x2\n",
        "empty_array = np.empty((2, 2))\n",
        "print(\"Empty array with size 2x2:\")\n",
        "print(empty_array)\n",
        "print()\n",
        "\n",
        "# 2. Initialize an all one array with size 4x2\n",
        "ones_array = np.ones((4, 2))\n",
        "print(\"All ones array with size 4x2:\")\n",
        "print(ones_array)\n",
        "print()\n",
        "\n",
        "# 3. Return a new array of given shape and type, filled with fill value\n",
        "fill_array = np.full((3, 3), 7)  # 3x3 array filled with 7s\n",
        "print(\"Array filled with 7s:\")\n",
        "print(fill_array)\n",
        "print()\n",
        "\n",
        "# 4. Return a new array of zeros with same shape and type as a given array\n",
        "sample_array = np.array([[1, 2, 3], [4, 5, 6]])\n",
        "zeros_like_array = np.zeros_like(sample_array)\n",
        "print(\"Original array:\")\n",
        "print(sample_array)\n",
        "print(\"Zeros array with same shape:\")\n",
        "print(zeros_like_array)\n",
        "print()\n",
        "\n",
        "# 5. Return a new array of ones with same shape and type as a given array\n",
        "ones_like_array = np.ones_like(sample_array)\n",
        "print(\"Ones array with same shape:\")\n",
        "print(ones_like_array)\n",
        "print()\n",
        "\n",
        "# 6. Convert existing list to numpy array\n",
        "new_list = [1, 2, 3, 4]\n",
        "np_array = np.array(new_list)\n",
        "print(\"Original list:\", new_list)\n",
        "print(\"NumPy array:\", np_array)\n",
        "print(\"Type:\", type(np_array))"
      ],
      "metadata": {
        "colab": {
          "base_uri": "https://localhost:8080/"
        },
        "id": "QbArobfGaRLg",
        "outputId": "c89c0882-ef7a-42dc-90cb-44cf94c5821a"
      },
      "execution_count": null,
      "outputs": [
        {
          "output_type": "stream",
          "name": "stdout",
          "text": [
            "Empty array with size 2x2:\n",
            "[[2.85375978e-316 0.00000000e+000]\n",
            " [1.63321133e-301 1.76145531e-312]]\n",
            "\n",
            "All ones array with size 4x2:\n",
            "[[1. 1.]\n",
            " [1. 1.]\n",
            " [1. 1.]\n",
            " [1. 1.]]\n",
            "\n",
            "Array filled with 7s:\n",
            "[[7 7 7]\n",
            " [7 7 7]\n",
            " [7 7 7]]\n",
            "\n",
            "Original array:\n",
            "[[1 2 3]\n",
            " [4 5 6]]\n",
            "Zeros array with same shape:\n",
            "[[0 0 0]\n",
            " [0 0 0]]\n",
            "\n",
            "Ones array with same shape:\n",
            "[[1 1 1]\n",
            " [1 1 1]]\n",
            "\n",
            "Original list: [1, 2, 3, 4]\n",
            "NumPy array: [1 2 3 4]\n",
            "Type: <class 'numpy.ndarray'>\n"
          ]
        }
      ]
    },
    {
      "cell_type": "markdown",
      "source": [
        "**Problem 2: Array Manipulation: Numerical Ranges and Array Indexing**"
      ],
      "metadata": {
        "id": "-svybHlFbUAb"
      }
    },
    {
      "cell_type": "code",
      "source": [
        "import numpy as np\n",
        "\n",
        "# 1. Create an array with values ranging from 10 to 49\n",
        "range_array = np.arange(10, 50)\n",
        "print(\"Array with values from 10 to 49:\")\n",
        "print(range_array)\n",
        "print()\n",
        "\n",
        "# 2. Create a 3x3 matrix with values ranging from 0 to 8\n",
        "matrix_3x3 = np.arange(9).reshape(3, 3)\n",
        "print(\"3x3 matrix with values from 0 to 8:\")\n",
        "print(matrix_3x3)\n",
        "print()\n",
        "\n",
        "# 3. Create a 3x3 identity matrix\n",
        "identity_matrix = np.eye(3)\n",
        "print(\"3x3 identity matrix:\")\n",
        "print(identity_matrix)\n",
        "print()\n",
        "\n",
        "# 4. Create a random array of size 30 and find the mean\n",
        "random_array = np.random.random(30)\n",
        "array_mean = random_array.mean()\n",
        "print(\"Random array of size 30:\")\n",
        "print(random_array)\n",
        "print(f\"Mean of the array: {array_mean}\")\n",
        "print()\n",
        "\n",
        "# 5. Create a 10x10 array with random values and find min and max values\n",
        "random_10x10 = np.random.random((10, 10))\n",
        "min_value = random_10x10.min()\n",
        "max_value = random_10x10.max()\n",
        "print(\"10x10 random array created\")\n",
        "print(f\"Minimum value: {min_value}\")\n",
        "print(f\"Maximum value: {max_value}\")\n",
        "print()\n",
        "\n",
        "# 6. Create a zero array of size 10 and replace 5th element with 1\n",
        "zero_array = np.zeros(10)\n",
        "zero_array[4] = 1  # 5th element (index 4)\n",
        "print(\"Zero array with 5th element = 1:\")\n",
        "print(zero_array)\n",
        "print()\n",
        "\n",
        "# 7. Reverse an array\n",
        "arr = np.array([1, 2, 0, 0, 4, 0])\n",
        "reversed_arr = arr[::-1]\n",
        "print(\"Original array:\", arr)\n",
        "print(\"Reversed array:\", reversed_arr)\n",
        "print()\n",
        "\n",
        "# 8. Create a 2d array with 1 on border and 0 inside\n",
        "border_array = np.ones((5, 5))\n",
        "border_array[1:-1, 1:-1] = 0\n",
        "print(\"2D array with 1 on border and 0 inside:\")\n",
        "print(border_array)\n",
        "print()\n",
        "\n",
        "# 9. Create an 8x8 matrix and fill it with a checkerboard pattern\n",
        "checkerboard = np.zeros((8, 8))\n",
        "checkerboard[1::2, ::2] = 1\n",
        "checkerboard[::2, 1::2] = 1\n",
        "print(\"8x8 checkerboard pattern:\")\n",
        "print(checkerboard)"
      ],
      "metadata": {
        "colab": {
          "base_uri": "https://localhost:8080/"
        },
        "id": "IVNoT6-XbRdx",
        "outputId": "0ff23a16-471f-4020-8fa9-75e17496819d"
      },
      "execution_count": null,
      "outputs": [
        {
          "output_type": "stream",
          "name": "stdout",
          "text": [
            "Array with values from 10 to 49:\n",
            "[10 11 12 13 14 15 16 17 18 19 20 21 22 23 24 25 26 27 28 29 30 31 32 33\n",
            " 34 35 36 37 38 39 40 41 42 43 44 45 46 47 48 49]\n",
            "\n",
            "3x3 matrix with values from 0 to 8:\n",
            "[[0 1 2]\n",
            " [3 4 5]\n",
            " [6 7 8]]\n",
            "\n",
            "3x3 identity matrix:\n",
            "[[1. 0. 0.]\n",
            " [0. 1. 0.]\n",
            " [0. 0. 1.]]\n",
            "\n",
            "Random array of size 30:\n",
            "[0.18214518 0.35920057 0.38436508 0.94245458 0.31999875 0.43671131\n",
            " 0.48004829 0.15230226 0.74385035 0.20704004 0.62889791 0.93548788\n",
            " 0.33997351 0.59369017 0.57854405 0.70905039 0.10788435 0.73832252\n",
            " 0.50679423 0.03914931 0.76653742 0.85025165 0.33292748 0.78528045\n",
            " 0.61200092 0.73944525 0.43854206 0.7657157  0.34248402 0.47950778]\n",
            "Mean of the array: 0.5166201161678463\n",
            "\n",
            "10x10 random array created\n",
            "Minimum value: 0.00839072212123626\n",
            "Maximum value: 0.996281154982201\n",
            "\n",
            "Zero array with 5th element = 1:\n",
            "[0. 0. 0. 0. 1. 0. 0. 0. 0. 0.]\n",
            "\n",
            "Original array: [1 2 0 0 4 0]\n",
            "Reversed array: [0 4 0 0 2 1]\n",
            "\n",
            "2D array with 1 on border and 0 inside:\n",
            "[[1. 1. 1. 1. 1.]\n",
            " [1. 0. 0. 0. 1.]\n",
            " [1. 0. 0. 0. 1.]\n",
            " [1. 0. 0. 0. 1.]\n",
            " [1. 1. 1. 1. 1.]]\n",
            "\n",
            "8x8 checkerboard pattern:\n",
            "[[0. 1. 0. 1. 0. 1. 0. 1.]\n",
            " [1. 0. 1. 0. 1. 0. 1. 0.]\n",
            " [0. 1. 0. 1. 0. 1. 0. 1.]\n",
            " [1. 0. 1. 0. 1. 0. 1. 0.]\n",
            " [0. 1. 0. 1. 0. 1. 0. 1.]\n",
            " [1. 0. 1. 0. 1. 0. 1. 0.]\n",
            " [0. 1. 0. 1. 0. 1. 0. 1.]\n",
            " [1. 0. 1. 0. 1. 0. 1. 0.]]\n"
          ]
        }
      ]
    },
    {
      "cell_type": "markdown",
      "source": [
        "**Problem 3: Array Operations**"
      ],
      "metadata": {
        "id": "Mtu3dnlVbYlC"
      }
    },
    {
      "cell_type": "code",
      "source": [
        "import numpy as np\n",
        "\n",
        "# Define the arrays\n",
        "x = np.array([[1, 2], [3, 5]])\n",
        "y = np.array([[5, 6], [7, 8]])\n",
        "v = np.array([9, 10])\n",
        "w = np.array([11, 12])\n",
        "\n",
        "print(\"x =\")\n",
        "print(x)\n",
        "print(\"\\ny =\")\n",
        "print(y)\n",
        "print(\"\\nv =\", v)\n",
        "print(\"w =\", w)\n",
        "print()\n",
        "\n",
        "# 1. Add the two arrays\n",
        "sum_xy = x + y\n",
        "print(\"1. x + y =\")\n",
        "print(sum_xy)\n",
        "print()\n",
        "\n",
        "# 2. Subtract the two arrays\n",
        "diff_xy = x - y\n",
        "print(\"2. x - y =\")\n",
        "print(diff_xy)\n",
        "print()\n",
        "\n",
        "# 3. Multiply the array with any integer of your choice\n",
        "scalar_mul = x * 3\n",
        "print(\"3. x * 3 =\")\n",
        "print(scalar_mul)\n",
        "print()\n",
        "\n",
        "# 4. Find the square of each element of the array\n",
        "squared_x = x ** 2\n",
        "print(\"4. x^2 =\")\n",
        "print(squared_x)\n",
        "print()\n",
        "\n",
        "# 5. Find dot products\n",
        "dot_vw = np.dot(v, w)\n",
        "dot_xv = np.dot(x, v)\n",
        "dot_xy = np.dot(x, y)\n",
        "\n",
        "print(\"5. Dot products:\")\n",
        "print(f\"v · w = {dot_vw}\")\n",
        "print(f\"x · v =\")\n",
        "print(dot_xv)\n",
        "print(f\"x · y =\")\n",
        "print(dot_xy)\n",
        "print()\n",
        "\n",
        "# 6. Concatenate arrays\n",
        "# Along rows\n",
        "concat_rows = np.concatenate((x, y), axis=0)  # or np.vstack((x, y))\n",
        "print(\"6a. Concatenate x and y along rows:\")\n",
        "print(concat_rows)\n",
        "print()\n",
        "\n",
        "# Along columns for v and w (need to reshape first)\n",
        "v_reshaped = v.reshape(-1, 1)\n",
        "w_reshaped = w.reshape(-1, 1)\n",
        "concat_cols = np.concatenate((v_reshaped, w_reshaped), axis=1)\n",
        "print(\"6b. Concatenate v and w along columns:\")\n",
        "print(concat_cols)\n",
        "print()\n",
        "\n",
        "# 7. Try to concatenate x and v (will cause error)\n",
        "try:\n",
        "    concat_xv = np.concatenate((x, v), axis=0)\n",
        "    print(\"7. Concatenate x and v:\")\n",
        "    print(concat_xv)\n",
        "except ValueError as e:\n",
        "    print(\"7. Error when concatenating x and v:\")\n",
        "    print(str(e))\n",
        "    print(\"Explanation: The arrays have different shapes and cannot be concatenated directly.\")\n",
        "    print(\"x has shape\", x.shape, \"while v has shape\", v.shape)\n",
        "    print(\"To concatenate, v would need to be reshaped to have the same number of columns as x.\")"
      ],
      "metadata": {
        "colab": {
          "base_uri": "https://localhost:8080/"
        },
        "id": "Rzd7r3IjbV6E",
        "outputId": "799c61e1-e466-4f54-fb30-567e7728d392"
      },
      "execution_count": null,
      "outputs": [
        {
          "output_type": "stream",
          "name": "stdout",
          "text": [
            "x =\n",
            "[[1 2]\n",
            " [3 5]]\n",
            "\n",
            "y =\n",
            "[[5 6]\n",
            " [7 8]]\n",
            "\n",
            "v = [ 9 10]\n",
            "w = [11 12]\n",
            "\n",
            "1. x + y =\n",
            "[[ 6  8]\n",
            " [10 13]]\n",
            "\n",
            "2. x - y =\n",
            "[[-4 -4]\n",
            " [-4 -3]]\n",
            "\n",
            "3. x * 3 =\n",
            "[[ 3  6]\n",
            " [ 9 15]]\n",
            "\n",
            "4. x^2 =\n",
            "[[ 1  4]\n",
            " [ 9 25]]\n",
            "\n",
            "5. Dot products:\n",
            "v · w = 219\n",
            "x · v =\n",
            "[29 77]\n",
            "x · y =\n",
            "[[19 22]\n",
            " [50 58]]\n",
            "\n",
            "6a. Concatenate x and y along rows:\n",
            "[[1 2]\n",
            " [3 5]\n",
            " [5 6]\n",
            " [7 8]]\n",
            "\n",
            "6b. Concatenate v and w along columns:\n",
            "[[ 9 11]\n",
            " [10 12]]\n",
            "\n",
            "7. Error when concatenating x and v:\n",
            "all the input arrays must have same number of dimensions, but the array at index 0 has 2 dimension(s) and the array at index 1 has 1 dimension(s)\n",
            "Explanation: The arrays have different shapes and cannot be concatenated directly.\n",
            "x has shape (2, 2) while v has shape (2,)\n",
            "To concatenate, v would need to be reshaped to have the same number of columns as x.\n"
          ]
        }
      ]
    },
    {
      "cell_type": "markdown",
      "source": [
        "**Problem 4: Matrix Operations**"
      ],
      "metadata": {
        "id": "CmI2kICgbgUV"
      }
    },
    {
      "cell_type": "code",
      "source": [
        "import numpy as np\n",
        "\n",
        "# Define the matrices\n",
        "A = np.array([[3, 4], [7, 8]])\n",
        "B = np.array([[5, 3], [2, 1]])\n",
        "\n",
        "print(\"A =\")\n",
        "print(A)\n",
        "print(\"\\nB =\")\n",
        "print(B)\n",
        "print()\n",
        "\n",
        "# 1. Prove A.A^(-1) = I\n",
        "# Calculate inverse of A\n",
        "A_inv = np.linalg.inv(A)\n",
        "print(\"1. A^(-1) =\")\n",
        "print(A_inv)\n",
        "\n",
        "# Calculate A.A^(-1)\n",
        "A_times_A_inv = np.dot(A, A_inv)\n",
        "print(\"A.A^(-1) =\")\n",
        "print(A_times_A_inv)\n",
        "print(\"This is approximately equal to the identity matrix I, with small floating-point errors.\")\n",
        "print()\n",
        "\n",
        "# 2. Prove AB ≠ BA\n",
        "AB = np.dot(A, B)\n",
        "BA = np.dot(B, A)\n",
        "print(\"2. AB =\")\n",
        "print(AB)\n",
        "print(\"BA =\")\n",
        "print(BA)\n",
        "print(\"As we can see, AB ≠ BA.\")\n",
        "print()\n",
        "\n",
        "# 3. Prove (AB)^T = B^T.A^T\n",
        "AB_T = np.dot(A, B).T\n",
        "B_T_A_T = np.dot(B.T, A.T)\n",
        "print(\"3. (AB)^T =\")\n",
        "print(AB_T)\n",
        "print(\"B^T.A^T =\")\n",
        "print(B_T_A_T)\n",
        "print(\"As we can see, (AB)^T = B^T.A^T.\")\n",
        "print()\n",
        "\n",
        "# Solving the system of linear equations:\n",
        "# 2x - 3y + z = -1\n",
        "# x - y + 2z = -3\n",
        "# 3x + y - z = 9\n",
        "\n",
        "# Matrix representation: AX = B\n",
        "A_sys = np.array([[2, -3, 1], [1, -1, 2], [3, 1, -1]])\n",
        "B_sys = np.array([-1, -3, 9])\n",
        "\n",
        "print(\"4. System of equations in matrix form:\")\n",
        "print(\"A =\")\n",
        "print(A_sys)\n",
        "print(\"B =\", B_sys)\n",
        "\n",
        "# Solve using inverse methods\n",
        "A_sys_inv = np.linalg.inv(A_sys)\n",
        "X = np.dot(A_sys_inv, B_sys)\n",
        "\n",
        "print(\"\\nSolution using inverse method:\")\n",
        "print(f\"X = {X}\")\n",
        "print(f\"Therefore: x = {X[0]}, y = {X[1]}, z = {X[2]}\")\n",
        "\n",
        "# Solve using np.linalg.solve\n",
        "X_linalg = np.linalg.solve(A_sys, B_sys)\n",
        "print(\"\\nSolution using np.linalg.solve:\")\n",
        "print(f\"X = {X_linalg}\")\n",
        "print(f\"Therefore: x = {X_linalg[0]}, y = {X_linalg[1]}, z = {X_linalg[2]}\")\n",
        "\n",
        "# Verify the solution\n",
        "verification = np.dot(A_sys, X_linalg)\n",
        "print(\"\\nVerification: A.X =\", verification)\n",
        "print(\"Original B =\", B_sys)\n",
        "print(\"The solution is correct as A.X = B.\")"
      ],
      "metadata": {
        "colab": {
          "base_uri": "https://localhost:8080/"
        },
        "id": "L0je7uaUbapY",
        "outputId": "58351cbd-810e-410f-a231-554e89b2338a"
      },
      "execution_count": null,
      "outputs": [
        {
          "output_type": "stream",
          "name": "stdout",
          "text": [
            "A =\n",
            "[[3 4]\n",
            " [7 8]]\n",
            "\n",
            "B =\n",
            "[[5 3]\n",
            " [2 1]]\n",
            "\n",
            "1. A^(-1) =\n",
            "[[-2.    1.  ]\n",
            " [ 1.75 -0.75]]\n",
            "A.A^(-1) =\n",
            "[[1.00000000e+00 0.00000000e+00]\n",
            " [1.77635684e-15 1.00000000e+00]]\n",
            "This is approximately equal to the identity matrix I, with small floating-point errors.\n",
            "\n",
            "2. AB =\n",
            "[[23 13]\n",
            " [51 29]]\n",
            "BA =\n",
            "[[36 44]\n",
            " [13 16]]\n",
            "As we can see, AB ≠ BA.\n",
            "\n",
            "3. (AB)^T =\n",
            "[[23 51]\n",
            " [13 29]]\n",
            "B^T.A^T =\n",
            "[[23 51]\n",
            " [13 29]]\n",
            "As we can see, (AB)^T = B^T.A^T.\n",
            "\n",
            "4. System of equations in matrix form:\n",
            "A =\n",
            "[[ 2 -3  1]\n",
            " [ 1 -1  2]\n",
            " [ 3  1 -1]]\n",
            "B = [-1 -3  9]\n",
            "\n",
            "Solution using inverse method:\n",
            "X = [ 2.  1. -2.]\n",
            "Therefore: x = 2.0, y = 1.0, z = -2.0\n",
            "\n",
            "Solution using np.linalg.solve:\n",
            "X = [ 2.  1. -2.]\n",
            "Therefore: x = 2.0, y = 1.0000000000000002, z = -2.0\n",
            "\n",
            "Verification: A.X = [-1. -3.  9.]\n",
            "Original B = [-1 -3  9]\n",
            "The solution is correct as A.X = B.\n"
          ]
        }
      ]
    },
    {
      "cell_type": "markdown",
      "source": [
        "**10.2 Experiment: How Fast is NumPy?**"
      ],
      "metadata": {
        "id": "e1GM3L04blzK"
      }
    },
    {
      "cell_type": "code",
      "source": [
        "import numpy as np\n",
        "import time\n",
        "import random\n",
        "\n",
        "# Function to measure execution time\n",
        "def measure_time(func):\n",
        "    start_time = time.time()\n",
        "    result = func()\n",
        "    end_time = time.time()\n",
        "    return end_time - start_time, result\n",
        "\n",
        "# 1. Element-wise Addition\n",
        "print(\"1. Element-wise Addition:\")\n",
        "\n",
        "# Create data\n",
        "size = 1000000\n",
        "list1 = [random.random() for _ in range(size)]\n",
        "list2 = [random.random() for _ in range(size)]\n",
        "array1 = np.array(list1)\n",
        "array2 = np.array(list2)\n",
        "\n",
        "# Using Python lists\n",
        "def list_addition():\n",
        "    result = [a + b for a, b in zip(list1, list2)]\n",
        "    return result\n",
        "\n",
        "time_list_add, _ = measure_time(list_addition)\n",
        "print(f\"   Time taken with Python lists: {time_list_add:.6f} seconds\")\n",
        "\n",
        "# Using NumPy arrays\n",
        "def numpy_addition():\n",
        "    result = array1 + array2\n",
        "    return result\n",
        "\n",
        "time_numpy_add, _ = measure_time(numpy_addition)\n",
        "print(f\"   Time taken with NumPy arrays: {time_numpy_add:.6f} seconds\")\n",
        "print(f\"   Speed improvement: {time_list_add / time_numpy_add:.2f}x\")\n",
        "print()\n",
        "\n",
        "# 2. Element-wise Multiplication\n",
        "print(\"2. Element-wise Multiplication:\")\n",
        "\n",
        "# Using Python lists\n",
        "def list_multiplication():\n",
        "    result = [a * b for a, b in zip(list1, list2)]\n",
        "    return result\n",
        "\n",
        "time_list_mul, _ = measure_time(list_multiplication)\n",
        "print(f\"   Time taken with Python lists: {time_list_mul:.6f} seconds\")\n",
        "\n",
        "# Using NumPy arrays\n",
        "def numpy_multiplication():\n",
        "    result = array1 * array2\n",
        "    return result\n",
        "\n",
        "time_numpy_mul, _ = measure_time(numpy_multiplication)\n",
        "print(f\"   Time taken with NumPy arrays: {time_numpy_mul:.6f} seconds\")\n",
        "print(f\"   Speed improvement: {time_list_mul / time_numpy_mul:.2f}x\")\n",
        "print()\n",
        "\n",
        "# 3. Dot Product\n",
        "print(\"3. Dot Product:\")\n",
        "\n",
        "# Using Python lists\n",
        "def list_dot_product():\n",
        "    result = sum(a * b for a, b in zip(list1, list2))\n",
        "    return result\n",
        "\n",
        "time_list_dot, _ = measure_time(list_dot_product)\n",
        "print(f\"   Time taken with Python lists: {time_list_dot:.6f} seconds\")\n",
        "\n",
        "# Using NumPy arrays\n",
        "def numpy_dot_product():\n",
        "    result = np.dot(array1, array2)\n",
        "    return result\n",
        "\n",
        "time_numpy_dot, _ = measure_time(numpy_dot_product)\n",
        "print(f\"   Time taken with NumPy arrays: {time_numpy_dot:.6f} seconds\")\n",
        "print(f\"   Speed improvement: {time_list_dot / time_numpy_dot:.2f}x\")\n",
        "print()\n",
        "\n",
        "# 4. Matrix Multiplication\n",
        "# Note: Using smaller matrices for Python list implementation due to performance constraints\n",
        "print(\"4. Matrix Multiplication:\")\n",
        "print(\"   Note: Using 100x100 matrices instead of 1000x1000 for Python lists due to performance constraints\")\n",
        "\n",
        "# Create data (smaller size for lists)\n",
        "small_size = 100\n",
        "list_matrix1 = [[random.random() for _ in range(small_size)] for _ in range(small_size)]\n",
        "list_matrix2 = [[random.random() for _ in range(small_size)] for _ in range(small_size)]\n",
        "\n",
        "# Using Python lists\n",
        "def list_matrix_multiplication():\n",
        "    result = [[0 for _ in range(small_size)] for _ in range(small_size)]\n",
        "    for i in range(small_size):\n",
        "        for j in range(small_size):\n",
        "            for k in range(small_size):\n",
        "                result[i][j] += list_matrix1[i][k] * list_matrix2[k][j]\n",
        "    return result\n",
        "\n",
        "time_list_matmul, _ = measure_time(list_matrix_multiplication)\n",
        "print(f\"   Time taken with Python lists (100x100): {time_list_matmul:.6f} seconds\")\n",
        "\n",
        "# For NumPy, let's use the full size\n",
        "full_size = 1000\n",
        "np_matrix1 = np.random.random((full_size, full_size))\n",
        "np_matrix2 = np.random.random((full_size, full_size))\n",
        "\n",
        "# Using NumPy arrays\n",
        "def numpy_matrix_multiplication():\n",
        "    result = np.dot(np_matrix1, np_matrix2)\n",
        "    return result\n",
        "\n",
        "time_numpy_matmul, _ = measure_time(numpy_matrix_multiplication)\n",
        "print(f\"   Time taken with NumPy arrays (1000x1000): {time_numpy_matmul:.6f} seconds\")\n",
        "print(f\"   Note: The NumPy implementation is handling a much larger matrix size.\")\n",
        "\n",
        "# Estimate comparison for equal-sized matrices\n",
        "estimated_list_time = time_list_matmul * (1000/100)**3  # O(n^3) complexity\n",
        "print(f\"   Estimated time for Python lists with 1000x1000 matrices: {estimated_list_time:.2f} seconds\")\n",
        "print(f\"   Estimated speed improvement: {estimated_list_time / time_numpy_matmul:.2f}x\")"
      ],
      "metadata": {
        "id": "Y17BKdp5biU9",
        "outputId": "9a3e6102-5f25-4499-eb3b-12709886aa27",
        "colab": {
          "base_uri": "https://localhost:8080/"
        }
      },
      "execution_count": null,
      "outputs": [
        {
          "output_type": "stream",
          "name": "stdout",
          "text": [
            "1. Element-wise Addition:\n",
            "   Time taken with Python lists: 0.399987 seconds\n",
            "   Time taken with NumPy arrays: 0.021666 seconds\n",
            "   Speed improvement: 18.46x\n",
            "\n",
            "2. Element-wise Multiplication:\n",
            "   Time taken with Python lists: 0.214967 seconds\n",
            "   Time taken with NumPy arrays: 0.004698 seconds\n",
            "   Speed improvement: 45.76x\n",
            "\n",
            "3. Dot Product:\n",
            "   Time taken with Python lists: 0.136868 seconds\n",
            "   Time taken with NumPy arrays: 0.009033 seconds\n",
            "   Speed improvement: 15.15x\n",
            "\n",
            "4. Matrix Multiplication:\n",
            "   Note: Using 100x100 matrices instead of 1000x1000 for Python lists due to performance constraints\n",
            "   Time taken with Python lists (100x100): 0.509091 seconds\n",
            "   Time taken with NumPy arrays (1000x1000): 0.059876 seconds\n",
            "   Note: The NumPy implementation is handling a much larger matrix size.\n",
            "   Estimated time for Python lists with 1000x1000 matrices: 509.09 seconds\n",
            "   Estimated speed improvement: 8502.39x\n"
          ]
        }
      ]
    },
    {
      "cell_type": "code",
      "source": [],
      "metadata": {
        "id": "1e9iaTgUboMe"
      },
      "execution_count": null,
      "outputs": []
    }
  ]
}